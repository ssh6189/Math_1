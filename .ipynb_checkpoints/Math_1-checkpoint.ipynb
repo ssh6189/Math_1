{
 "cells": [
  {
   "cell_type": "markdown",
   "metadata": {},
   "source": [
    "<H1>1. 월드전자는 노트북을 제조하고 판매하는 회사이다.</H1>  \n",
    "\n",
    "<H1>한 대의 노트북을 생산하는 데에는 재료비와 인건비 등 총 B만원의 가변 비용이 든다고 한다.</H1>\n",
    "\n",
    "<H1>노트북 판매 대수에 상관없이 매년 임대료, 재산세, 보험료, 급여 등 A만원의 고정 비용이 들며,</H1>\n",
    "\n",
    "<H1>한 대의 노트북을 생산하는 데에는 재료비와 인건비 등 총 B만원의 가변 비용이 든다고 한다.</H1>\n",
    "\n",
    "<H1>예를 들어 A=1,000, B=70이라고 하자. 이 경우 노트북을 한 대 생산하는 데는 총 1,070만원이 들며, 열 대 생산하는 데는 총 1,700만원이 든다.</H1>\n",
    "\n",
    "<H1>노트북 가격이 C만원으로 책정되었다고 한다. </H1>\n",
    "\n",
    "<H1>일반적으로 생산 대수를 늘려 가다 보면 어느 순간 총 수입(판매비용)이 총 비용(=고정비용+가변비용)보다 많아지게 된다. </H1>\n",
    "\n",
    "<H1>최초로 총 수입이 총 비용보다 많아져 이익이 발생하는 지점을 손익분기점(BREAK-EVEN POINT)이라고 한다.</H1>\n",
    "\n",
    "<H1>A, B, C가 주어졌을 때, 손익분기점을 구하는 프로그램을 작성하시오.</H1>\n",
    "\n",
    "<H1>첫째 줄에 A, B, C가 빈 칸을 사이에 두고 순서대로 주어진다. A, B, C는 21억 이하의 자연수이다.</H1>"
   ]
  },
  {
   "cell_type": "code",
   "execution_count": 1,
   "metadata": {},
   "outputs": [
    {
     "name": "stdout",
     "output_type": "stream",
     "text": [
      "1000 70 170\n",
      "11\n"
     ]
    }
   ],
   "source": [
    "N = 0\n",
    "\n",
    "A, B, C = map(int, input().split(\" \"))\n",
    "\n",
    "if (B < C):\n",
    "    N = A // (C-B) + 1\n",
    "    \n",
    "else:\n",
    "    N = N - 1\n",
    "\n",
    "print(N)\n"
   ]
  },
  {
   "cell_type": "markdown",
   "metadata": {},
   "source": [
    "<H1>2. 상근이는 요즘 설탕공장에서 설탕을 배달하고 있다. 상근이는 지금 사탕가게에 설탕을 정확하게 N킬로그램을 배달해야 한다.</H1>\n",
    "\n",
    "<H1>설탕공장에서 만드는 설탕은 봉지에 담겨져 있다. 봉지는 3킬로그램 봉지와 5킬로그램 봉지가 있다.</H1>\n",
    "\n",
    "<H1>상근이는 귀찮기 때문에, 최대한 적은 봉지를 들고 가려고 한다.</H1>\n",
    "\n",
    "<H1>예를 들어, 18킬로그램 설탕을 배달해야 할 때, 3킬로그램 봉지 6개를 가져가도 되지만, 5킬로그램 3개와 3킬로그램 1개를 배달하면, 더 적은 개수의 봉지를 배달할 수 있다.</H1>\n",
    "\n",
    "<H1>상근이가 설탕을 정확하게 N킬로그램 배달해야 할 때, 봉지 몇 개를 가져가면 되는지 그 수를 구하는 프로그램을 작성하시오.</H1>\n",
    "\n",
    "<H1>첫째 줄에 N이 주어진다. (3 ≤ N ≤ 5000)</H1>"
   ]
  },
  {
   "cell_type": "code",
   "execution_count": 46,
   "metadata": {},
   "outputs": [
    {
     "name": "stdout",
     "output_type": "stream",
     "text": [
      "18\n",
      "4\n"
     ]
    }
   ],
   "source": [
    "N = int(input())\n",
    "\n",
    "F = N//5\n",
    "N = N%5\n",
    "T = 0\n",
    "\n",
    "while (F >= 0):\n",
    "    if (N%3 == 0):\n",
    "        T = N//3\n",
    "        N = N%3\n",
    "        break\n",
    "    F = F - 1\n",
    "    N = N + 5\n",
    "\n",
    "if (N == 0):\n",
    "    print(F + T)\n",
    "else:\n",
    "    print(-1)"
   ]
  }
 ],
 "metadata": {
  "kernelspec": {
   "display_name": "Python 3",
   "language": "python",
   "name": "python3"
  },
  "language_info": {
   "codemirror_mode": {
    "name": "ipython",
    "version": 3
   },
   "file_extension": ".py",
   "mimetype": "text/x-python",
   "name": "python",
   "nbconvert_exporter": "python",
   "pygments_lexer": "ipython3",
   "version": "3.7.4"
  }
 },
 "nbformat": 4,
 "nbformat_minor": 2
}
