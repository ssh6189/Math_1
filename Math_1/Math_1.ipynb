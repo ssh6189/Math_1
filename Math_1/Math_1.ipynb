{
 "cells": [
  {
   "cell_type": "markdown",
   "metadata": {},
   "source": [
    "<H1>1. 월드전자는 노트북을 제조하고 판매하는 회사이다.</H1>  \n",
    "\n",
    "<H1>한 대의 노트북을 생산하는 데에는 재료비와 인건비 등 총 B만원의 가변 비용이 든다고 한다.</H1>\n",
    "\n",
    "<H1>노트북 판매 대수에 상관없이 매년 임대료, 재산세, 보험료, 급여 등 A만원의 고정 비용이 들며,</H1>\n",
    "\n",
    "<H1>한 대의 노트북을 생산하는 데에는 재료비와 인건비 등 총 B만원의 가변 비용이 든다고 한다.</H1>\n",
    "\n",
    "<H1>예를 들어 A=1,000, B=70이라고 하자. 이 경우 노트북을 한 대 생산하는 데는 총 1,070만원이 들며, 열 대 생산하는 데는 총 1,700만원이 든다.</H1>\n",
    "\n",
    "<H1>노트북 가격이 C만원으로 책정되었다고 한다. </H1>\n",
    "\n",
    "<H1>일반적으로 생산 대수를 늘려 가다 보면 어느 순간 총 수입(판매비용)이 총 비용(=고정비용+가변비용)보다 많아지게 된다. </H1>\n",
    "\n",
    "<H1>최초로 총 수입이 총 비용보다 많아져 이익이 발생하는 지점을 손익분기점(BREAK-EVEN POINT)이라고 한다.</H1>\n",
    "\n",
    "<H1>A, B, C가 주어졌을 때, 손익분기점을 구하는 프로그램을 작성하시오.</H1>\n",
    "\n",
    "<H1>첫째 줄에 A, B, C가 빈 칸을 사이에 두고 순서대로 주어진다. A, B, C는 21억 이하의 자연수이다.</H1>"
   ]
  },
  {
   "cell_type": "code",
   "execution_count": 1,
   "metadata": {},
   "outputs": [
    {
     "name": "stdout",
     "output_type": "stream",
     "text": [
      "1000 70 170\n",
      "11\n"
     ]
    }
   ],
   "source": [
    "N = 0\n",
    "\n",
    "A, B, C = map(int, input().split(\" \"))\n",
    "\n",
    "if (B < C):\n",
    "    N = A // (C-B) + 1\n",
    "    \n",
    "else:\n",
    "    N = N - 1\n",
    "\n",
    "print(N)\n"
   ]
  },
  {
   "cell_type": "markdown",
   "metadata": {},
   "source": [
    "<H1>2. 상근이는 요즘 설탕공장에서 설탕을 배달하고 있다. 상근이는 지금 사탕가게에 설탕을 정확하게 N킬로그램을 배달해야 한다.</H1>\n",
    "\n",
    "<H1>설탕공장에서 만드는 설탕은 봉지에 담겨져 있다. 봉지는 3킬로그램 봉지와 5킬로그램 봉지가 있다.</H1>\n",
    "\n",
    "<H1>상근이는 귀찮기 때문에, 최대한 적은 봉지를 들고 가려고 한다.</H1>\n",
    "\n",
    "<H1>예를 들어, 18킬로그램 설탕을 배달해야 할 때, 3킬로그램 봉지 6개를 가져가도 되지만, 5킬로그램 3개와 3킬로그램 1개를 배달하면, 더 적은 개수의 봉지를 배달할 수 있다.</H1>\n",
    "\n",
    "<H1>상근이가 설탕을 정확하게 N킬로그램 배달해야 할 때, 봉지 몇 개를 가져가면 되는지 그 수를 구하는 프로그램을 작성하시오.</H1>\n",
    "\n",
    "<H1>첫째 줄에 N이 주어진다. (3 ≤ N ≤ 5000)</H1>"
   ]
  },
  {
   "cell_type": "code",
   "execution_count": 46,
   "metadata": {},
   "outputs": [
    {
     "name": "stdout",
     "output_type": "stream",
     "text": [
      "18\n",
      "4\n"
     ]
    }
   ],
   "source": [
    "N = int(input())\n",
    "\n",
    "F = N//5\n",
    "N = N%5\n",
    "T = 0\n",
    "\n",
    "while (F >= 0):\n",
    "    if (N%3 == 0):\n",
    "        T = N//3\n",
    "        N = N%3\n",
    "        break\n",
    "    F = F - 1\n",
    "    N = N + 5\n",
    "\n",
    "if (N == 0):\n",
    "    print(F + T)\n",
    "else:\n",
    "    print(-1)"
   ]
  },
  {
   "cell_type": "markdown",
   "metadata": {},
   "source": [
    "<H1>\n",
    "3.\n",
    "<img src = \"honeycomb.jpg\">\n",
    "첫째 줄에 N(1 ≤ N ≤ 1,000,000,000)이 주어진다.    \n",
    "</H1>"
   ]
  },
  {
   "cell_type": "code",
   "execution_count": 26,
   "metadata": {},
   "outputs": [
    {
     "name": "stdout",
     "output_type": "stream",
     "text": [
      "13\n",
      "3\n"
     ]
    }
   ],
   "source": [
    "i = 0\n",
    "s = 1\n",
    "\n",
    "N = int(input())\n",
    "\n",
    "while(True):\n",
    "    if (N == 1):\n",
    "        i = i + 1\n",
    "        break\n",
    "    \n",
    "    elif (s < N):\n",
    "        a = (6*i)\n",
    "        s = s + a\n",
    "        i = i + 1\n",
    "    else:\n",
    "        break\n",
    "    \n",
    "print(i)"
   ]
  },
  {
   "cell_type": "markdown",
   "metadata": {},
   "source": [
    "<H1>\n",
    "4.\n",
    "<img src = \"fractional_number.jpg\">\n",
    "첫째 줄에 X(1 ≤ X ≤ 10,000,000)가 주어진다.    \n",
    "</H1>"
   ]
  },
  {
   "cell_type": "code",
   "execution_count": 21,
   "metadata": {},
   "outputs": [
    {
     "name": "stdout",
     "output_type": "stream",
     "text": [
      "14\n",
      "2/4\n"
     ]
    }
   ],
   "source": [
    "X = int(input())\n",
    "\n",
    "count = 0\n",
    "\n",
    "while (X > 0):\n",
    "    X = X - count\n",
    "    count = count + 1\n",
    "\n",
    "X = count + X - 1\n",
    "\n",
    "if (count % 2 == 0):\n",
    "    result = str(count - X) + '/' + str(X)\n",
    "else:\n",
    "    result = str(X) + '/' + str(count - X)\n",
    "    \n",
    "print(result)"
   ]
  },
  {
   "cell_type": "markdown",
   "metadata": {},
   "source": [
    "<H1>5. 땅 위에 달팽이가 있다. 이 달팽이는 높이가 V미터인 나무 막대를 올라갈 것이다.</H1>\n",
    "\n",
    "<H1>달팽이는 낮에 A미터 올라갈 수 있다. 하지만, 밤에 잠을 자는 동안 B미터 미끄러진다.</H1>\n",
    "\n",
    "<H1>또, 정상에 올라간 후에는 미끄러지지 않는다.</H1>\n",
    "\n",
    "<H1>달팽이가 나무 막대를 모두 올라가려면, 며칠이 걸리는지 구하는 프로그램을 작성하시오.</H1>\n",
    "\n",
    "<H1>첫째 줄에 세 정수 A, B, V가 공백으로 구분되어서 주어진다. (1 ≤ B < A ≤ V ≤ 1,000,000,000)</H1>\n"
   ]
  },
  {
   "cell_type": "code",
   "execution_count": 6,
   "metadata": {},
   "outputs": [
    {
     "name": "stdout",
     "output_type": "stream",
     "text": [
      "2 1 5\n",
      "4\n"
     ]
    }
   ],
   "source": [
    "A, B, V = map(int, input().split(\" \"))\n",
    "\n",
    "day = 0\n",
    "result = 0\n",
    "\n",
    "while(True):\n",
    "    result = result + A\n",
    "    day = day + 1\n",
    "    if (result >= V):\n",
    "        break\n",
    "    else:\n",
    "        result = result - B\n",
    "\n",
    "print(day)"
   ]
  },
  {
   "cell_type": "markdown",
   "metadata": {},
   "source": [
    "<H1>6. \n",
    "<img src = \"Hotel1.jpg\">\n",
    "<img src = \"Hotel2.jpg\">   \n",
    "</H1>\n",
    "<H6>프로그램은 표준 입력에서 입력 데이터를 받는다.</H6>\n",
    "<H6>프로그램의 입력은 T 개의 테스트 데이터로 이루어져 있는데 T 는 입력의 맨 첫 줄에 주어진다.</H6> \n",
    "<H6>각 테스트 데이터는 한 행으로서 H, W, N, 세 정수를 포함하고 있으며</H6>\n",
    "<H6>각각 호텔의 층 수, 각 층의 방 수, 몇 번째 손님인지를 나타낸다(1 ≤ H, W ≤ 99, 1 ≤ N ≤ H × W).</H6> "
   ]
  },
  {
   "cell_type": "code",
   "execution_count": 14,
   "metadata": {},
   "outputs": [
    {
     "name": "stdout",
     "output_type": "stream",
     "text": [
      "2\n",
      "6 12 10\n",
      "402\n",
      "30 50 72\n",
      "1203\n"
     ]
    }
   ],
   "source": [
    "T = int(input(\"\"))\n",
    "\n",
    "for i in range(T):\n",
    "    H, W, N = map(int, input().split(\" \"))\n",
    "    room = []   \n",
    "    for k in range(W):\n",
    "        for j in range(H):\n",
    "            number = str(j+1) + str(0) + str(k+1)\n",
    "            room.append(number)\n",
    "\n",
    "    room = list(map(int,room))\n",
    "    \n",
    "    print(room[N-1])"
   ]
  },
  {
   "cell_type": "markdown",
   "metadata": {},
   "source": [
    "<H1>7. 평소 반상회에 참석하는 것을 좋아하는 주희는 이번 기회에 부녀회장이 되고 싶어 각 층의 사람들을 불러 모아 반상회를 주최하려고 한다.</H1>\n",
    "\n",
    "<H1>이 아파트에 거주를 하려면 조건이 있는데, “a층의 b호에 살려면 자신의 아래(a-1)층의 1호부터 b호까지 사람들의 수의 합만큼 사람들을 데려와 살아야 한다” 는 계약 조항을 꼭 지키고 들어와야 한다.</H1>\n",
    "\n",
    "<H1>아파트에 비어있는 집은 없고 모든 거주민들이 이 계약 조건을 지키고 왔다고 가정했을 때, 주어지는 양의 정수 k와 n에 대해 k층에 n호에는 몇 명이 살고 있는지 출력하라. 단, 아파트에는 0층부터 있고 각층에는 1호부터 있으며, 0층의 i호에는 i명이 산다.</H1>\n",
    "\n",
    "<H1>첫 번째 줄에 Test case의 수 T가 주어진다. 그리고 각각의 케이스마다 입력으로 첫 번째 줄에 정수 k, 두 번째 줄에 정수 n이 주어진다. (1 <= k <= 14, 1 <= n <= 14)</H1>"
   ]
  },
  {
   "cell_type": "code",
   "execution_count": 3,
   "metadata": {},
   "outputs": [
    {
     "name": "stdout",
     "output_type": "stream",
     "text": [
      "2\n",
      "1\n",
      "3\n",
      "6\n",
      "2\n",
      "3\n",
      "10\n"
     ]
    }
   ],
   "source": [
    "f = 0\n",
    "\n",
    "floor = []\n",
    "\n",
    "T = int(input())\n",
    "\n",
    "for i in range(T):\n",
    "    k = int(input())\n",
    "    n = int(input())\n",
    "    \n",
    "    while(f<=k):\n",
    "        room = []\n",
    "        if (f==0):\n",
    "            for j in range(n):\n",
    "                number = j + 1\n",
    "                room.append(number)\n",
    "            f = f + 1\n",
    "            floor.append(room)\n",
    "        else:\n",
    "            for j in range(n):\n",
    "                number = sum(floor[f-1][0:j+1])\n",
    "                room.append(number)\n",
    "            f = f + 1\n",
    "            floor.append(room)\n",
    "        \n",
    "    result = floor[k][n-1]\n",
    "    print(result)"
   ]
  },
  {
   "cell_type": "markdown",
   "metadata": {},
   "source": [
    "<H1>\n",
    "8.\n",
    "<img src = \"Fly_to_me.jpg\">\n",
    "</H1>\n",
    "<H6>\n",
    "입력의 첫 줄에는 테스트케이스의 개수 T가 주어진다.\n",
    "</H6>\n",
    "<H6>각각의 테스트 케이스에 대해 현재 위치 x 와 목표 위치 y 가 정수로 주어지며,</H6>\n",
    "    \n",
    "<H6>x는 항상 y보다 작은 값을 갖는다. ( 0 ≤ x < y < 231)</H6>"
   ]
  },
  {
   "cell_type": "code",
   "execution_count": 1,
   "metadata": {},
   "outputs": [
    {
     "name": "stdout",
     "output_type": "stream",
     "text": [
      "3\n",
      "0 3\n",
      "3\n",
      "1 5\n",
      "3\n",
      "45 50\n",
      "4\n"
     ]
    }
   ],
   "source": [
    "T = int(input())\n",
    "\n",
    "for i in range(T):\n",
    "    \n",
    "    x, y = map(int, input().split(\" \"))\n",
    "    \n",
    "    s = abs(x - y)\n",
    "    \n",
    "    count = 1\n",
    "    while True:\n",
    "        if (count*count <= s < (count + 1)*(count + 1)):\n",
    "            break\n",
    "        count = count + 1\n",
    "    if count*count == s:\n",
    "         print((count * 2) - 1)\n",
    "    elif (count*count < s <= count*count + count):\n",
    "        print(count * 2)\n",
    "    else:\n",
    "        print((count * 2) + 1)"
   ]
  }
 ],
 "metadata": {
  "kernelspec": {
   "display_name": "Python 3",
   "language": "python",
   "name": "python3"
  },
  "language_info": {
   "codemirror_mode": {
    "name": "ipython",
    "version": 3
   },
   "file_extension": ".py",
   "mimetype": "text/x-python",
   "name": "python",
   "nbconvert_exporter": "python",
   "pygments_lexer": "ipython3",
   "version": "3.7.4"
  }
 },
 "nbformat": 4,
 "nbformat_minor": 2
}
